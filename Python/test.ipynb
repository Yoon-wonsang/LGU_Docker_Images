{
 "cells": [
  {
   "cell_type": "code",
   "execution_count": 1,
   "id": "d79e35b7-bf00-4ad3-b273-1e69f932a3be",
   "metadata": {},
   "outputs": [],
   "source": [
    "import sys"
   ]
  },
  {
   "cell_type": "code",
   "execution_count": 2,
   "id": "4df28de0-782d-447d-99a5-863a5d236a40",
   "metadata": {},
   "outputs": [
    {
     "name": "stdout",
     "output_type": "stream",
     "text": [
      "3.6.10 |Anaconda, Inc.| (default, May  8 2020, 02:54:21) \n",
      "[GCC 7.3.0]\n"
     ]
    }
   ],
   "source": [
    "print(sys.version)"
   ]
  },
  {
   "cell_type": "code",
   "execution_count": 4,
   "id": "8d1a79fa-24cc-4f45-be8b-77393ade599b",
   "metadata": {},
   "outputs": [
    {
     "name": "stdout",
     "output_type": "stream",
     "text": [
      "Config dir: /home/cdsw/.jupyter\n",
      "\n",
      "Config dir: /usr/local/etc/jupyter\n",
      "    jupyterlab \u001b[32menabled\u001b[0m\n",
      "    - Validating jupyterlab...\n",
      "      jupyterlab 3.2.8 \u001b[32mOK\u001b[0m\n",
      "    nbclassic \u001b[32menabled\u001b[0m\n",
      "    - Validating nbclassic...\n",
      "      nbclassic  \u001b[32mOK\u001b[0m\n",
      "\n",
      "Config dir: /usr/local/etc/jupyter\n",
      "    jupyterlab \u001b[32menabled\u001b[0m\n",
      "    - Validating jupyterlab...\n",
      "      jupyterlab 3.2.8 \u001b[32mOK\u001b[0m\n",
      "    nbclassic \u001b[32menabled\u001b[0m\n",
      "    - Validating nbclassic...\n",
      "      nbclassic  \u001b[32mOK\u001b[0m\n",
      "\n"
     ]
    }
   ],
   "source": [
    "!jupyter server extension list"
   ]
  },
  {
   "cell_type": "code",
   "execution_count": 5,
   "id": "d68dfb00-4e21-462a-a9ae-adad95c1ae5b",
   "metadata": {},
   "outputs": [
    {
     "name": "stdout",
     "output_type": "stream",
     "text": [
      "JupyterLab v3.2.8\n"
     ]
    }
   ],
   "source": [
    "!jupyter labextension list"
   ]
  },
  {
   "cell_type": "code",
   "execution_count": null,
   "id": "e1f8dced-716e-4b6c-bf17-eaa6b08accde",
   "metadata": {},
   "outputs": [],
   "source": []
  }
 ],
 "metadata": {
  "kernelspec": {
   "display_name": "Python 3",
   "language": "python",
   "name": "python3"
  },
  "language_info": {
   "codemirror_mode": {
    "name": "ipython",
    "version": 3
   },
   "file_extension": ".py",
   "mimetype": "text/x-python",
   "name": "python",
   "nbconvert_exporter": "python",
   "pygments_lexer": "ipython3",
   "version": "3.6.10"
  }
 },
 "nbformat": 4,
 "nbformat_minor": 5
}
